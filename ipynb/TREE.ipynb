{
 "cells": [
  {
   "cell_type": "code",
   "execution_count": 2,
   "metadata": {},
   "outputs": [],
   "source": [
    "import pandas as pd\n",
    "import numpy as np"
   ]
  },
  {
   "cell_type": "code",
   "execution_count": 3,
   "metadata": {},
   "outputs": [],
   "source": [
    "path_DB = 'C:\\\\Users\\\\aci_d\\\\Documents\\\\Desenvolvimento\\\\01_Fut\\\\documentos\\\\DB_FUT\\\\'"
   ]
  },
  {
   "cell_type": "code",
   "execution_count": 4,
   "metadata": {},
   "outputs": [],
   "source": [
    "df = pd.read_excel(path_DB + 'DadosTreinamento.xlsx')"
   ]
  },
  {
   "cell_type": "code",
   "execution_count": 5,
   "metadata": {},
   "outputs": [],
   "source": [
    "features = [\n",
    "'m_Faltas_mdmv_5',\n",
    "'m_Escanteios_mdmv_5',\n",
    "'m_Cruzamentos_mdmv_5',\n",
    "'m_Botedefensivo_mdmv_5',\n",
    "'m_Cortes_mdmv_5',\n",
    "'m_QtdDefesas_mdmv_5',\n",
    "'m_Impedimentos_mdmv_5',\n",
    "'m_Tirodemeta_mdmv_5',\n",
    "'m_Bolaslongas_mdmv_5',\n",
    "'m_posse_mdmv_5',\n",
    "'m_acertodepasses_mdmv_5',\n",
    "'m_chutesaogol_mdmv_5',\n",
    "'m_defesasPorcentagem_mdmv_5',\n",
    "\n",
    "'v_Faltas_mdmv_5',\n",
    "'v_Escanteios_mdmv_5',\n",
    "'v_Cruzamentos_mdmv_5',\n",
    "'v_Botedefensivo_mdmv_5',\n",
    "'v_Cortes_mdmv_5',\n",
    "'v_QtdDefesas_mdmv_5',\n",
    "'v_Impedimentos_mdmv_5',\n",
    "'v_Tirodemeta_mdmv_5',\n",
    "'v_Bolaslongas_mdmv_5',\n",
    "'v_posse_mdmv_5',\n",
    "'v_acertodepasses_mdmv_5',\n",
    "'v_chutesaogol_mdmv_5',\n",
    "'v_defesasPorcentagem_mdmv_5',\n",
    "\n",
    "'m_QtdJogadores',\n",
    "'m_MdIdade',\n",
    "'m_MdPosse',\n",
    "'m_QtdGols',\n",
    "'m_QtdAssistencias',\n",
    "'m_QtdPenaltisBatidos',\n",
    "'m_QtdCartoesAmarelos',\n",
    "'m_QtdCartoesVermelhos',\n",
    "\n",
    "'v_QtdJogadores',\n",
    "'v_MdIdade',\n",
    "'v_MdPosse',\n",
    "'v_QtdGols',\n",
    "'v_QtdAssistencias',\n",
    "'v_QtdPenaltisBatidos',\n",
    "'v_QtdCartoesAmarelos',\n",
    "'v_QtdCartoesVermelhos',\n",
    "]"
   ]
  },
  {
   "cell_type": "code",
   "execution_count": 6,
   "metadata": {},
   "outputs": [],
   "source": [
    "predict_column = ['m_AtualEscanteios',\n",
    "                  'v_AtualEscanteios'\n",
    "                 ]"
   ]
  },
  {
   "cell_type": "code",
   "execution_count": 7,
   "metadata": {},
   "outputs": [],
   "source": [
    "#df_X = df[features].apply(pd.to_numeric)"
   ]
  },
  {
   "cell_type": "code",
   "execution_count": 8,
   "metadata": {},
   "outputs": [],
   "source": [
    "df_X = df[features].astype(np.float32)\n",
    "#df_X = df[features].astype(np.float32).values"
   ]
  },
  {
   "cell_type": "code",
   "execution_count": 9,
   "metadata": {},
   "outputs": [],
   "source": [
    "df_Y = df['m_AtualEscanteios'].astype(np.float32) + df['v_AtualEscanteios'].astype(np.float32)\n",
    "#df_Y = df_Y['Escateios']\n",
    "#df_Y = df_Y.values\n"
   ]
  },
  {
   "cell_type": "code",
   "execution_count": 10,
   "metadata": {},
   "outputs": [],
   "source": [
    "from sklearn import (model_selection, preprocessing)\n",
    "from sklearn.tree import DecisionTreeRegressor"
   ]
  },
  {
   "cell_type": "code",
   "execution_count": 11,
   "metadata": {},
   "outputs": [],
   "source": [
    "df_X = preprocessing.StandardScaler().fit_transform(df_X)"
   ]
  },
  {
   "cell_type": "code",
   "execution_count": 15,
   "metadata": {},
   "outputs": [],
   "source": [
    "df_X_train,df_X_test,df_Y_train, df_Y_test = model_selection.train_test_split(df_X,df_Y, test_size = 0.3, random_state=42)"
   ]
  },
  {
   "cell_type": "code",
   "execution_count": 13,
   "metadata": {},
   "outputs": [
    {
     "data": {
      "text/plain": [
       "1812"
      ]
     },
     "execution_count": 13,
     "metadata": {},
     "output_type": "execute_result"
    }
   ],
   "source": [
    "len(df_Y_train)"
   ]
  },
  {
   "cell_type": "code",
   "execution_count": 16,
   "metadata": {},
   "outputs": [
    {
     "data": {
      "text/plain": [
       "-0.9336446824079145"
      ]
     },
     "execution_count": 16,
     "metadata": {},
     "output_type": "execute_result"
    }
   ],
   "source": [
    "dtr = DecisionTreeRegressor()\n",
    "dtr.fit(df_X_train,df_Y_train)\n",
    "dtr.score(df_X_test,df_Y_test)"
   ]
  }
 ],
 "metadata": {
  "interpreter": {
   "hash": "c5320664f4daae60a34b0a6c7f3e14c2f678d1adfec90218a94c72446202ddb5"
  },
  "kernelspec": {
   "display_name": "Python 3.9.7 ('base')",
   "language": "python",
   "name": "python3"
  },
  "language_info": {
   "codemirror_mode": {
    "name": "ipython",
    "version": 3
   },
   "file_extension": ".py",
   "mimetype": "text/x-python",
   "name": "python",
   "nbconvert_exporter": "python",
   "pygments_lexer": "ipython3",
   "version": "3.9.7"
  },
  "orig_nbformat": 4
 },
 "nbformat": 4,
 "nbformat_minor": 2
}
