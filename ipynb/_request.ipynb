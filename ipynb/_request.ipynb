{
 "cells": [
  {
   "cell_type": "code",
   "execution_count": null,
   "metadata": {},
   "outputs": [
    {
     "ename": "",
     "evalue": "",
     "output_type": "error",
     "traceback": [
      "\u001b[1;31mFailed to start the Kernel. \n",
      "The 'python398jvsc74a57bd01af9d9a52258ff3c0d99b282a5b6be56922a41d98317106d931363504fe20405' kernel is not available. Please pick another suitable kernel instead, or install that kernel. \n",
      "View Jupyter <a href='command:jupyter.viewOutput'>log</a> for further details."
     ]
    }
   ],
   "source": [
    "import pandas as pd\n",
    "import requests\n",
    "import json\n"
   ]
  },
  {
   "cell_type": "code",
   "execution_count": null,
   "metadata": {},
   "outputs": [],
   "source": [
    "import requests\n",
    "from requests.structures import CaseInsensitiveDict\n",
    "\n",
    "url = \"https://api.api-futebol.com.br/v1/partidas/602\"\n",
    "\n",
    "headers = CaseInsensitiveDict()\n",
    "headers[\"Authorization\"] = \"Bearer test_4adf4ca1c0ecc24517274698ccb5cd\"\n",
    "\n"
   ]
  },
  {
   "cell_type": "code",
   "execution_count": null,
   "metadata": {},
   "outputs": [],
   "source": [
    "\n",
    "def buscar_dados_id(id):\n",
    "    request = requests.get(url, headers=headers)\n",
    "    todo = json.loads(request.content)\n",
    "    print(todo)\n",
    "    print(todo['estatisticas'])\n"
   ]
  },
  {
   "cell_type": "code",
   "execution_count": null,
   "metadata": {},
   "outputs": [],
   "source": [
    "buscar_dados_id(602)"
   ]
  }
 ],
 "metadata": {
  "interpreter": {
   "hash": "ebc5b44770d722a28a1b32b03db795c101cd8b997dfe0f259a69dff3854fb5e7"
  },
  "kernelspec": {
   "display_name": "Python 3.7.6 64-bit ('base': conda)",
   "language": "python",
   "name": "python3"
  },
  "language_info": {
   "codemirror_mode": {
    "name": "ipython",
    "version": 3
   },
   "file_extension": ".py",
   "mimetype": "text/x-python",
   "name": "python",
   "nbconvert_exporter": "python",
   "pygments_lexer": "ipython3",
   "version": "3.7.6"
  },
  "orig_nbformat": 4
 },
 "nbformat": 4,
 "nbformat_minor": 2
}
