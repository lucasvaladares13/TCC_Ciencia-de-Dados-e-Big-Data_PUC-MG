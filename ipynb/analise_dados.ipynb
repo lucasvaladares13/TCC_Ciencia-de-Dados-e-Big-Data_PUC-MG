{
 "cells": [
  {
   "cell_type": "code",
   "execution_count": 1,
   "metadata": {},
   "outputs": [],
   "source": [
    "# Imports\n",
    "import pandas as pd\n",
    "import numpy as np\n",
    "import matplotlib\n",
    "import matplotlib.pyplot as plt\n",
    "from sklearn.preprocessing import StandardScaler\n",
    "from sklearn.metrics import ConfusionMatrixDisplay\n",
    "from sklearn.metrics import classification_report\n",
    "from sklearn.model_selection import train_test_split\n",
    "from sklearn.model_selection import KFold\n",
    "from sklearn.model_selection import cross_val_score\n",
    "from sklearn.model_selection import GridSearchCV\n",
    "from sklearn.metrics import confusion_matrix\n",
    "from sklearn.metrics import accuracy_score\n",
    "from sklearn.pipeline import Pipeline\n",
    "from sklearn.linear_model import LogisticRegression\n",
    "from sklearn.tree import DecisionTreeClassifier\n",
    "from sklearn.neighbors import KNeighborsClassifier\n",
    "from sklearn.naive_bayes import GaussianNB\n",
    "from sklearn.svm import SVC\n",
    "from sklearn import (model_selection, preprocessing)\n",
    "import pandas as pd\n",
    "import numpy as np\n",
    "import seaborn as sns"
   ]
  },
  {
   "cell_type": "code",
   "execution_count": 8,
   "metadata": {},
   "outputs": [],
   "source": [
    "path_DB = 'C:\\\\Users\\\\lucas.oliveira\\\\OneDrive - ARCADIS\\\\Desktop\\\\Documentos Lucas\\\\Pos Graduação Lucas\\\\TCC\\\\documentos\\\\DB_FUT\\\\'\n",
    "df = pd.read_excel(path_DB + 'DadosTreinamento.xlsx')\n",
    "df_sts = pd.read_excel(path_DB + 'df_sts.xlsx')"
   ]
  },
  {
   "cell_type": "code",
   "execution_count": 9,
   "metadata": {},
   "outputs": [
    {
     "data": {
      "text/plain": [
       "2302"
      ]
     },
     "execution_count": 9,
     "metadata": {},
     "output_type": "execute_result"
    }
   ],
   "source": [
    "df= df[[\n",
    "'winner',\n",
    "'m_GolsFeitos_mdmv_10',\n",
    "'m_GolsSofridos_mdmv_10',\n",
    "'m_Faltas_mdmv_10',\n",
    "'m_Escanteios_mdmv_10',\n",
    "'m_Cruzamentos_mdmv_10',\n",
    "'m_QtdDefesas_mdmv_10',\n",
    "'m_Impedimentos_mdmv_10',\n",
    "'m_posse_mdmv_10',\n",
    "'m_chutesaogol_mdmv_10',\n",
    "'m_score_mdmv_10',\n",
    "'v_GolsFeitos_mdmv_10',\n",
    "'v_GolsSofridos_mdmv_10',\n",
    "'v_Faltas_mdmv_10',\n",
    "'v_Escanteios_mdmv_10',\n",
    "'v_Cruzamentos_mdmv_10',\n",
    "'v_QtdDefesas_mdmv_10',\n",
    "'v_Impedimentos_mdmv_10',\n",
    "'v_posse_mdmv_10',\n",
    "'v_chutesaogol_mdmv_10',\n",
    "'v_score_mdmv_10',\n",
    "'v_MdPosse',\n",
    "'v_QtdGols',\n",
    "'v_QtdAssistencias',\n",
    "'v_MdGolsPorPartida',\n",
    "'v_MdAssistenciasPorPartida',\n",
    "'m_MdPosse',\n",
    "'m_QtdGols',\n",
    "'m_QtdAssistencias',\n",
    "'m_MdGolsPorPartida',\n",
    "'m_MdAssistenciasPorPartida'\n",
    "]]\n",
    "len(df)"
   ]
  }
 ],
 "metadata": {
  "interpreter": {
   "hash": "ebc5b44770d722a28a1b32b03db795c101cd8b997dfe0f259a69dff3854fb5e7"
  },
  "kernelspec": {
   "display_name": "Python 3.7.6 ('base')",
   "language": "python",
   "name": "python3"
  },
  "language_info": {
   "codemirror_mode": {
    "name": "ipython",
    "version": 3
   },
   "file_extension": ".py",
   "mimetype": "text/x-python",
   "name": "python",
   "nbconvert_exporter": "python",
   "pygments_lexer": "ipython3",
   "version": "3.7.6"
  },
  "orig_nbformat": 4
 },
 "nbformat": 4,
 "nbformat_minor": 2
}
