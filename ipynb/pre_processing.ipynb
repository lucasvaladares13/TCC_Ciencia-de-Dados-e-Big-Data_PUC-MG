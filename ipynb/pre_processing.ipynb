{
 "cells": [
  {
   "cell_type": "code",
   "execution_count": 71,
   "metadata": {},
   "outputs": [],
   "source": [
    "import pandas as pd\n",
    "import os\n",
    "import pathlib\n",
    "from datetime import datetime\n",
    "import numpy as np"
   ]
  },
  {
   "cell_type": "code",
   "execution_count": 72,
   "metadata": {},
   "outputs": [],
   "source": [
    "#today = datetime.today().strftime('%Y_%m_%d')\n",
    "today = '2022_02_08'\n"
   ]
  },
  {
   "cell_type": "code",
   "execution_count": 73,
   "metadata": {},
   "outputs": [],
   "source": [
    "path_folder = 'C:\\\\Users\\\\aci_d\\\\Documents\\\\Desenvolvimento\\\\01_Fut\\\\documentos\\\\'"
   ]
  },
  {
   "cell_type": "code",
   "execution_count": 74,
   "metadata": {},
   "outputs": [],
   "source": [
    "file_list = list(pathlib.Path(path_folder).glob(\"**/*xlsx\"))"
   ]
  },
  {
   "cell_type": "code",
   "execution_count": 75,
   "metadata": {},
   "outputs": [],
   "source": [
    "df = pd.DataFrame()\n",
    "for file_path in file_list:\n",
    "    if ('old' not in str(file_path)) and ('fbref_compiled_' not in str(file_path)):\n",
    "        df_file = pd.read_excel(file_path)\n",
    "        file = str(file_path).split('\\\\')[-1]\n",
    "        df_file['file'] = file\n",
    "\n",
    "        df = df.append(df_file)\n",
    "\n",
    "\n",
    "\n",
    "    \n"
   ]
  },
  {
   "cell_type": "code",
   "execution_count": 76,
   "metadata": {},
   "outputs": [
    {
     "name": "stdout",
     "output_type": "stream",
     "text": [
      "['mandante', 'visitante', 'mandante.Faltas', 'visitante.Faltas', 'mandante.Escanteios', 'visitante.Escanteios', 'mandante.Cruzamentos', 'visitante.Cruzamentos', 'mandante.Contatos', 'visitante.Contatos', 'mandante.Botedefensivo', 'visitante.Botedefensivo', 'mandante.Cortes', 'visitante.Cortes', 'mandante.QtdDefesas', 'visitante.QtdDefesas', 'mandante.Impedimentos', 'visitante.Impedimentos', 'mandante.Tirodemeta', 'visitante.Tirodemeta', 'mandante.Bolaslongas', 'visitante.Bolaslongas', 'mandante.posse', 'visitante.posse', 'mandante.acertodepasses', 'visitante.acertodepasses', 'mandante.chutesaogol', 'visitante.chutesaogol', 'mandante.defesasPorcentagem', 'visitante.defesasPorcentagem', 'diadasemana', 'mes', 'dia', 'ano', 'mandante.placar', 'visitante.placar', 'item', 'file', 'mandante.Jogadasaéreas', 'visitante.Jogadasaéreas', 'mandante.Cobrançadelateral', 'visitante.Cobrançadelateral']\n"
     ]
    }
   ],
   "source": [
    "df_columns = list(df.columns)\n",
    "print(df_columns)\n",
    "for column in df_columns:\n",
    "    df[column] = df[column].astype(str).str.replace('<strong>','', regex = False)\n",
    "    df[column] = df[column].astype(str).str.replace('%</strong>','', regex = False)\n",
    "    df[column] = df[column].astype(str).str.replace('.0','', regex = False)\n"
   ]
  },
  {
   "cell_type": "code",
   "execution_count": 77,
   "metadata": {},
   "outputs": [],
   "source": [
    "df = df.fillna(0)\n",
    "df = df.replace('nan',0)\n",
    "df = df.replace('Contatos',0).replace('Cruzamentos',0)\n",
    "df = df.reset_index(drop =True)"
   ]
  },
  {
   "cell_type": "code",
   "execution_count": 78,
   "metadata": {},
   "outputs": [],
   "source": [
    "int_column = ['mandante.Faltas', 'visitante.Faltas',\n",
    "       'mandante.Escanteios', 'visitante.Escanteios', 'mandante.Cruzamentos',\n",
    "       'visitante.Cruzamentos', 'mandante.Contatos', 'visitante.Contatos',\n",
    "       'mandante.Botedefensivo', 'visitante.Botedefensivo', 'mandante.Cortes',\n",
    "       'visitante.Cortes', 'mandante.QtdDefesas', 'visitante.QtdDefesas',\n",
    "       'mandante.Impedimentos', 'visitante.Impedimentos',\n",
    "       'mandante.Tirodemeta', 'visitante.Tirodemeta', 'mandante.Bolaslongas',\n",
    "       'visitante.Bolaslongas', 'mandante.posse', 'visitante.posse',\n",
    "       'mandante.acertodepasses', 'visitante.acertodepasses',\n",
    "       'mandante.chutesaogol', 'visitante.chutesaogol',\n",
    "       'mandante.defesasPorcentagem', 'visitante.defesasPorcentagem', 'mandante.placar',\n",
    "       'visitante.placar', 'mandante.Jogadasaéreas',\n",
    "       'visitante.Jogadasaéreas', 'mandante.Cobrançadelateral',\n",
    "       'visitante.Cobrançadelateral']\n",
    "for column in int_column:\n",
    "    df[column] = pd.to_numeric(df[column])\n"
   ]
  },
  {
   "cell_type": "code",
   "execution_count": 79,
   "metadata": {},
   "outputs": [
    {
     "data": {
      "text/plain": [
       "{'Am�rica(MG)',\n",
       " 'Atl�ticoMineiro',\n",
       " 'Ava�',\n",
       " 'Cear�',\n",
       " 'Confian�a',\n",
       " 'Crici�ma',\n",
       " 'Cuiab�',\n",
       " 'Goi�s',\n",
       " 'Gr�mio',\n",
       " 'N�utico',\n",
       " 'Oper�rio',\n",
       " 'Paran�',\n",
       " 'SampaioCorr�a',\n",
       " 'S�oBento',\n",
       " 'S�oPaulo',\n",
       " 'Vit�ria'}"
      ]
     },
     "execution_count": 79,
     "metadata": {},
     "output_type": "execute_result"
    }
   ],
   "source": [
    "set(df.loc[df['mandante'].str.contains('�'),'mandante'].tolist())"
   ]
  },
  {
   "cell_type": "code",
   "execution_count": 80,
   "metadata": {},
   "outputs": [],
   "source": [
    "dict_time = {'Am�rica(MG)':'America-MG',\n",
    " 'Atl�ticoMineiro':'AtleticoMineiro',\n",
    " 'Ava�':'Avai',\n",
    " 'Cear�':'Ceara',\n",
    " 'Confian�a':'Confianca',\n",
    " 'Crici�ma':'Criciuma',\n",
    " 'Cuiab�':'Cuiaba',\n",
    " 'Goi�s':'Goias',\n",
    " 'Gr�mio':'Gremio',\n",
    " 'N�utico':'Nautico',\n",
    " 'Oper�rio':'Operario',\n",
    " 'Paran�':'Parana',\n",
    " 'SampaioCorr�a':'SampaioCorrea',\n",
    " 'S�oBento':'SaoBento',\n",
    " 'S�oPaulo':'SaoPaulo',\n",
    " 'Vit�ria':'Vitoria'}\n",
    "\n",
    "df = df.replace(dict_time)\n",
    "#df['mandante'] = df['mandante'].map(dict_time) \n",
    "#df['visitante'] = df['visitante'].map(dict_time) "
   ]
  },
  {
   "cell_type": "code",
   "execution_count": 83,
   "metadata": {},
   "outputs": [],
   "source": [
    "dict_day = {'s�bado':'sabado',\n",
    "            'ter�a-feira':'terca-feira'}\n",
    "\n",
    "df = df.replace(dict_day)\n",
    "df['item'] = df['item'].astype(str).str.replace('S�rie','Serie', regex = False)"
   ]
  },
  {
   "cell_type": "code",
   "execution_count": 84,
   "metadata": {},
   "outputs": [],
   "source": [
    "df.to_excel(path_folder+'fbref_compiled_'+today+'.xlsx', index = False)"
   ]
  }
 ],
 "metadata": {
  "interpreter": {
   "hash": "c5320664f4daae60a34b0a6c7f3e14c2f678d1adfec90218a94c72446202ddb5"
  },
  "kernelspec": {
   "display_name": "Python 3.9.7 ('base')",
   "language": "python",
   "name": "python3"
  },
  "language_info": {
   "codemirror_mode": {
    "name": "ipython",
    "version": 3
   },
   "file_extension": ".py",
   "mimetype": "text/x-python",
   "name": "python",
   "nbconvert_exporter": "python",
   "pygments_lexer": "ipython3",
   "version": "3.9.7"
  },
  "orig_nbformat": 4
 },
 "nbformat": 4,
 "nbformat_minor": 2
}
