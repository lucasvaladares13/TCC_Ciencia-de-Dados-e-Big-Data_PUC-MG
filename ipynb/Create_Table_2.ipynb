{
 "cells": [
  {
   "cell_type": "code",
   "execution_count": null,
   "metadata": {},
   "outputs": [],
   "source": [
    "import pandas as pd\n",
    "import numpy as np\n",
    "from _dictionary import sts_parameters, predict_parameters"
   ]
  },
  {
   "cell_type": "code",
   "execution_count": null,
   "metadata": {},
   "outputs": [],
   "source": [
    "path_DB = 'C:\\\\Users\\\\aci_d\\\\Documents\\\\Desenvolvimento\\\\01_Fut\\\\documentos\\\\DB_FUT\\\\'"
   ]
  },
  {
   "cell_type": "code",
   "execution_count": null,
   "metadata": {},
   "outputs": [],
   "source": [
    "dt_info = pd.read_excel(path_DB + 'dt_info.xlsx')\n",
    "dt_partida = pd.read_excel(path_DB + 'dt_partida.xlsx')\n",
    "dt_temporada = pd.read_excel(path_DB + 'dt_temporada.xlsx', dtype = {'Equipe_ID':np.int32})\n",
    "dt_time_sts = pd.read_excel(path_DB + 'dt_time_sts.xlsx')\n",
    "dt_time = pd.read_excel(path_DB + 'dt_time.xlsx')\n"
   ]
  },
  {
   "cell_type": "code",
   "execution_count": null,
   "metadata": {},
   "outputs": [],
   "source": [
    "dt_time_sts"
   ]
  },
  {
   "cell_type": "code",
   "execution_count": null,
   "metadata": {},
   "outputs": [],
   "source": [
    "def calculate_winner(dt_partida):\n",
    "    dt_partida['Diferenca'] = dt_partida['m_placar'] - dt_partida['v_placar']\n",
    "\n",
    "    dt_partida.loc[dt_partida['Diferenca'] == 0, 'winner'] = 2\n",
    "\n",
    "    dt_partida.loc[dt_partida['Diferenca'] > 0, 'winner'] = 1\n",
    "\n",
    "    dt_partida.loc[dt_partida['Diferenca'] < 0, 'winner'] = 3\n",
    "\n",
    "    dt_partida = dt_partida.drop(['Diferenca'], axis = 'columns')\n",
    "\n",
    "    return dt_partida"
   ]
  },
  {
   "cell_type": "code",
   "execution_count": null,
   "metadata": {},
   "outputs": [],
   "source": [
    "def calculate_score(dt_time_sts):\n",
    "    dt_time_sts['Diferenca'] = dt_time_sts['GolsFeitos'] - dt_time_sts['GolsSofridos']\n",
    "\n",
    "    dt_time_sts.loc[dt_time_sts['Diferenca'] == 0, 'score'] = 1\n",
    "\n",
    "    dt_time_sts.loc[dt_time_sts['Diferenca'] > 0, 'score'] = 3\n",
    "\n",
    "    dt_time_sts.loc[dt_time_sts['Diferenca'] < 0, 'score'] = 0\n",
    "\n",
    "    dt_time_sts = dt_time_sts.drop(['Diferenca'], axis = 'columns')\n",
    "\n",
    "    return dt_time_sts"
   ]
  },
  {
   "cell_type": "code",
   "execution_count": null,
   "metadata": {},
   "outputs": [],
   "source": [
    "def calculate_last_score(dt_time_sts,dt_time, dt_info,parameters,mdmv):\n",
    "    dt_info = dt_info[['Partida_ID', 'Data']]\n",
    "    dt_time_sts = pd.merge(dt_time_sts, dt_info, on= 'Partida_ID', how='inner')\n",
    "    dt_time_sts['Data'] = pd.to_datetime(dt_time_sts['Data'],)\n",
    "\n",
    "    df_sts = pd.DataFrame()\n",
    "    for idx in dt_time.itertuples():\n",
    "        try:\n",
    "            nColumns = []\n",
    "            df = dt_time_sts[dt_time_sts['Equipe_ID'] == idx.Equipe_ID ]\n",
    "            df = df.sort_values(by=['Data'])\n",
    "            for param in parameters:\n",
    "                nColum = param+'_mdmv_'+str(mdmv)\n",
    "                nColumns.append(nColum)\n",
    "                df[nColum] = df[param].rolling(mdmv).sum()\n",
    "                df = df.reset_index(drop=True)\n",
    "                \n",
    "                df[nColum] = df[nColum].fillna(df.loc[mdmv-1,nColum])\n",
    "            #cols = ['Equipe_ID','Partida_ID','Data']\n",
    "            #cols.extend(nColumns)\n",
    "            #df = df[cols]\n",
    "            df_sts = df_sts.append(df)\n",
    "            #print(df)\n",
    "        except:\n",
    "            print(idx.Equipe_ID)\n",
    "    df_sts = df_sts.drop(['Data'], axis = 'columns')\n",
    "    df_sts = df_sts.reset_index(drop=True)\n",
    "    return df_sts"
   ]
  },
  {
   "cell_type": "code",
   "execution_count": null,
   "metadata": {},
   "outputs": [],
   "source": [
    "def calculate_mdmv(mdmv, parameters,dt_time_sts,dt_info,dt_time):\n",
    "    dt_info = dt_info[['Partida_ID', 'Data']]\n",
    "    dt_time_sts = pd.merge(dt_time_sts, dt_info, on= 'Partida_ID', how='inner')\n",
    "    dt_time_sts['Data'] = pd.to_datetime(dt_time_sts['Data'],)\n",
    "\n",
    "    df_sts = pd.DataFrame()\n",
    "    for idx in dt_time.itertuples():\n",
    "        try:\n",
    "            nColumns = ['Data']\n",
    "            df = dt_time_sts[dt_time_sts['Equipe_ID'] == idx.Equipe_ID ]\n",
    "            df = df.sort_values(by=['Data'])\n",
    "            for param in parameters:\n",
    "                nColum = param+'_mdmv_'+str(mdmv)\n",
    "                nColumns.append(nColum)\n",
    "                df[nColum] = df[param].rolling(mdmv).mean()\n",
    "                df = df.reset_index(drop=True)\n",
    "                \n",
    "                df[nColum] = df[nColum].fillna(df.loc[mdmv-1,nColum])\n",
    "            #cols = ['Equipe_ID','Partida_ID','Data']\n",
    "            #cols.extend(nColumns)\n",
    "            #df = df[cols]\n",
    "            df_sts = df_sts.append(df)\n",
    "            #print(df)\n",
    "        except:\n",
    "            print(idx.Equipe_ID)\n",
    "    df_sts = df_sts.drop(['Data'], axis = 'columns')\n",
    "    df_sts = df_sts.reset_index(drop=True)\n",
    "    return df_sts"
   ]
  },
  {
   "cell_type": "code",
   "execution_count": null,
   "metadata": {},
   "outputs": [],
   "source": [
    "def merge_time(df_partida,df_time,sufix):\n",
    "    \n",
    "    \n",
    "    df_partida['Partida_Equipe_ID'] = df_partida[sufix+'LastPartida_ID'].astype(str) + \"_\" + df_partida[sufix+'Equipe_ID'].astype(str)\n",
    "    df_time['Partida_Equipe_ID'] = df_time['Partida_ID'].astype(str) + \"_\" + df_time['Equipe_ID'].astype(str)\n",
    "    df_time = df_time.drop(['Partida_ID','Equipe_ID'], axis = 'columns')\n",
    "    dict_columns = {}\n",
    "    for colum in df_time.columns:\n",
    "        if colum not in ['Partida_Equipe_ID']:\n",
    "            dict_columns[colum] = sufix+colum \n",
    "    \n",
    "    df_partida = pd.merge(df_partida,df_time, how ='inner', on = 'Partida_Equipe_ID')\n",
    "    df_partida = df_partida.rename(columns = dict_columns)\n",
    "    df_partida = df_partida.drop(['Partida_Equipe_ID'], axis = 'columns')\n",
    "    #print(df_partida.columns)\n",
    "    return df_partida"
   ]
  },
  {
   "cell_type": "code",
   "execution_count": null,
   "metadata": {},
   "outputs": [],
   "source": [
    "def merge_time_atual(df_partida,df_time,sufix,Param):\n",
    "    \n",
    "    \n",
    "    df_partida['Partida_Equipe_ID'] = df_partida['Partida_ID'].astype(str) + \"_\" + df_partida[sufix+'Equipe_ID'].astype(str)\n",
    "    df_time['Partida_Equipe_ID'] = df_time['Partida_ID'].astype(str) + \"_\" + df_time['Equipe_ID'].astype(str)\n",
    "    df_time = df_time.drop(['Partida_ID','Equipe_ID'], axis = 'columns')\n",
    "    Param.append('Partida_Equipe_ID')\n",
    "    print(Param)\n",
    "    #print(df_time.columns)\n",
    "    df_time = df_time[Param]\n",
    "    Param.remove('Partida_Equipe_ID')\n",
    "    dict_columns = {}\n",
    "    for colum in df_time.columns:\n",
    "        if colum not in ['Partida_Equipe_ID','Data']:\n",
    "            dict_columns[colum] = sufix+'Atual'+colum \n",
    "    \n",
    "    df_partida = pd.merge(df_partida,df_time, how ='left', on = 'Partida_Equipe_ID')\n",
    "    df_partida = df_partida.rename(columns = dict_columns)\n",
    "    #df_partida = df_partida.drop(['Data'], axis = 'columns')\n",
    "    #print(df_partida.columns)\n",
    "    return df_partida"
   ]
  },
  {
   "cell_type": "code",
   "execution_count": null,
   "metadata": {},
   "outputs": [],
   "source": [
    "def merge_aux(df_partida,df_temporada,sufix):\n",
    "    \n",
    "    if sufix == 'm_':\n",
    "        type_info = '1'\n",
    "    elif sufix == 'v_':\n",
    "        type_info = '2'\n",
    "    else:\n",
    "        type_info = ''\n",
    "\n",
    "    list_col = ['QtdJogadores', 'MdIdade', 'MdPosse', 'QtdJogosDisputados',\n",
    "       'QtdGols', 'QtdAssistencias', 'QtdGolsNormais', 'QtdGolPenaltis',\n",
    "       'QtdPenaltisBatidos', 'QtdCartoesAmarelos', 'QtdCartoesVermelhos',\n",
    "       'MdGolsPorPartida', 'MdAssistenciasPorPartida',\n",
    "       'MdGolsAssistenciasPorPartida', 'MdGolsNormaisPorPartida',\n",
    "       'MdGolsNormaisAssistenciasPorPartida','key']\n",
    "\n",
    "    df_temporada['key'] = df_temporada['Equipe_ID'].astype(str)+\"_\"+df_temporada['ano'].astype(str)+\"_\"+df_temporada['info_type'].astype(str)\n",
    "    df_temporada = df_temporada[list_col]\n",
    "    df_partida['ano_anterior'] = df_partida['ano_ref'] - 1\n",
    "    df_partida[sufix+'key'] = df_partida[sufix+'Equipe_ID'].astype(str)+\"_\"+df_partida['ano_anterior'].astype(str)+\"_\"+type_info\n",
    "    nCol = sufix+'key'\n",
    "    df_partida = pd.merge(df_partida,df_temporada,how ='inner',left_on=nCol, right_on='key' )\n",
    "    \n",
    "    for col in list_col:\n",
    "    \n",
    "        df_partida = df_partida.rename(columns = {col:sufix+col})\n",
    "    df_partida = df_partida.drop([nCol], axis = 'columns')\n",
    "    return df_partida"
   ]
  },
  {
   "cell_type": "code",
   "execution_count": null,
   "metadata": {},
   "outputs": [],
   "source": [
    "def merge_ID(df_partida, df_LastPartida, sufix):\n",
    "    df_partida['key'] = df_partida['Partida_ID'].astype(str) + \"_\" + df_partida[sufix+'Equipe_ID'].astype(str)\n",
    "    df_partida = pd.merge(df_partida,df_LastPartida, on ='key', how = 'inner')\n",
    "    nCol = sufix + 'LastPartida_ID'\n",
    "    df_partida = df_partida.rename(columns = {'LastPartida_ID':nCol})\n",
    "    df_partida = df_partida.drop(['key'], axis = 'columns')\n",
    "    return df_partida"
   ]
  },
  {
   "cell_type": "code",
   "execution_count": null,
   "metadata": {},
   "outputs": [],
   "source": [
    "def get_last_partidaID(df_partida, df_info):\n",
    "    df_partida = df_partida.sort_values(by = ['Partida_ID'])\n",
    "    df_partida = df_partida.reset_index(drop=True)\n",
    "    df_info = df_info[['Partida_ID','Data']]\n",
    "    df_partida = df_partida[['Partida_ID','m_Equipe_ID','v_Equipe_ID']]\n",
    "    df_partida = pd.merge(df_partida,df_info, on='Partida_ID',how='inner')\n",
    "\n",
    "    df = df_partida[['Partida_ID','m_Equipe_ID','Data']].rename(columns = {'m_Equipe_ID':'Equipe_ID'})\n",
    "    df = df.append(df_partida[['Partida_ID','v_Equipe_ID','Data']].rename(columns = {'v_Equipe_ID':'Equipe_ID'}))\n",
    "    #df = df.sort_values(by = ['Partida_ID'])\n",
    "    print(len(df))\n",
    "    df_PartidaID = pd.DataFrame()\n",
    "    for ID in list(set(df.Equipe_ID.tolist())):\n",
    "        df_Equipe = df.loc[df.Equipe_ID == ID,]\n",
    "        df_Equipe = df_Equipe.sort_values(by = ['Data'])\n",
    "        df_Equipe['LastPartida_ID'] = df_Equipe.Partida_ID.shift(periods=1)\n",
    "\n",
    "        df_PartidaID = df_PartidaID.append(df_Equipe)\n",
    "        #print(df_Equipe)\n",
    "    df_PartidaID['key'] = df_PartidaID['Partida_ID'].astype(str) + \"_\" + df_PartidaID['Equipe_ID'].astype(str)\n",
    "    df_PartidaID = df_PartidaID[['key','LastPartida_ID']]\n",
    "    df_PartidaID['LastPartida_ID'] = df_PartidaID['LastPartida_ID'].astype(str).str.replace('.0','',regex = False)\n",
    "    return df_PartidaID"
   ]
  },
  {
   "cell_type": "code",
   "execution_count": null,
   "metadata": {},
   "outputs": [],
   "source": [
    "df_LastPartida = get_last_partidaID(dt_partida,dt_info)"
   ]
  },
  {
   "cell_type": "code",
   "execution_count": null,
   "metadata": {},
   "outputs": [],
   "source": [
    "df_LastPartida"
   ]
  },
  {
   "cell_type": "code",
   "execution_count": null,
   "metadata": {},
   "outputs": [],
   "source": [
    "df_sts = calculate_mdmv(10,['GolsFeitos','GolsSofridos','Faltas', 'Escanteios', 'Cruzamentos','QtdDefesas', 'Impedimentos','posse', 'chutesaogol'],dt_time_sts,dt_info,dt_time)\n"
   ]
  },
  {
   "cell_type": "code",
   "execution_count": null,
   "metadata": {},
   "outputs": [],
   "source": [
    "df_sts = calculate_score(df_sts)\n",
    "df_sts = calculate_last_score(df_sts,dt_time,dt_info,['score'],10)"
   ]
  },
  {
   "cell_type": "code",
   "execution_count": null,
   "metadata": {},
   "outputs": [],
   "source": [
    "dt_partida = calculate_winner(dt_partida)\n",
    "dt_partida = merge_ID(dt_partida, df_LastPartida,'m_')\n",
    "dt_partida = merge_ID(dt_partida,df_LastPartida,'v_')"
   ]
  },
  {
   "cell_type": "code",
   "execution_count": null,
   "metadata": {},
   "outputs": [],
   "source": [
    "dt_partida = merge_time(dt_partida, df_sts ,\"m_\")\n",
    "dt_partida = merge_time(dt_partida, df_sts ,\"v_\")\n",
    "len(dt_partida)"
   ]
  },
  {
   "cell_type": "code",
   "execution_count": null,
   "metadata": {},
   "outputs": [],
   "source": [
    "predict_parameters = ['winner']"
   ]
  },
  {
   "cell_type": "code",
   "execution_count": null,
   "metadata": {},
   "outputs": [],
   "source": [
    "dt_partida = merge_aux(dt_partida,dt_temporada,'m_')\n",
    "dt_partida = merge_aux(dt_partida,dt_temporada,'v_')"
   ]
  },
  {
   "cell_type": "code",
   "execution_count": null,
   "metadata": {},
   "outputs": [],
   "source": [
    "dt_partida = dt_partida.dropna()\n",
    "len(dt_partida)"
   ]
  },
  {
   "cell_type": "code",
   "execution_count": null,
   "metadata": {},
   "outputs": [],
   "source": [
    "dt_partida.to_excel(path_DB+'DadosTreinamento.xlsx', index = False)"
   ]
  },
  {
   "cell_type": "code",
   "execution_count": null,
   "metadata": {},
   "outputs": [],
   "source": [
    "df= dt_partida[[\n",
    "'winner',\n",
    "'m_GolsFeitos_mdmv_10',\n",
    "'m_GolsSofridos_mdmv_10',\n",
    "'m_Faltas_mdmv_10',\n",
    "'m_Escanteios_mdmv_10',\n",
    "'m_Cruzamentos_mdmv_10',\n",
    "'m_QtdDefesas_mdmv_10',\n",
    "'m_Impedimentos_mdmv_10',\n",
    "'m_posse_mdmv_10',\n",
    "'m_chutesaogol_mdmv_10',\n",
    "'m_score_mdmv_10',\n",
    "'v_GolsFeitos_mdmv_10',\n",
    "'v_GolsSofridos_mdmv_10',\n",
    "'v_Faltas_mdmv_10',\n",
    "'v_Escanteios_mdmv_10',\n",
    "'v_Cruzamentos_mdmv_10',\n",
    "'v_QtdDefesas_mdmv_10',\n",
    "'v_Impedimentos_mdmv_10',\n",
    "'v_posse_mdmv_10',\n",
    "'v_chutesaogol_mdmv_10',\n",
    "'v_score_mdmv_10',\n",
    "'v_MdPosse',\n",
    "'v_QtdGols',\n",
    "'v_QtdAssistencias',\n",
    "'v_MdGolsPorPartida',\n",
    "'v_MdAssistenciasPorPartida',\n",
    "'m_MdPosse',\n",
    "'m_QtdGols',\n",
    "'m_QtdAssistencias',\n",
    "'m_MdGolsPorPartida',\n",
    "'m_MdAssistenciasPorPartida'\n",
    "]]"
   ]
  },
  {
   "cell_type": "code",
   "execution_count": null,
   "metadata": {},
   "outputs": [],
   "source": [
    "df.to_excel(path_DB+'DadosTreinamento_cols.xlsx', index = False)"
   ]
  }
 ],
 "metadata": {
  "interpreter": {
   "hash": "c5320664f4daae60a34b0a6c7f3e14c2f678d1adfec90218a94c72446202ddb5"
  },
  "kernelspec": {
   "display_name": "Python 3.9.7 ('base')",
   "language": "python",
   "name": "python3"
  },
  "language_info": {
   "codemirror_mode": {
    "name": "ipython",
    "version": 3
   },
   "file_extension": ".py",
   "mimetype": "text/x-python",
   "name": "python",
   "nbconvert_exporter": "python",
   "pygments_lexer": "ipython3",
   "version": "3.9.7"
  },
  "orig_nbformat": 4
 },
 "nbformat": 4,
 "nbformat_minor": 2
}
