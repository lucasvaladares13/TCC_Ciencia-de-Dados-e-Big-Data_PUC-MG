{
 "cells": [
  {
   "cell_type": "code",
   "execution_count": null,
   "metadata": {},
   "outputs": [],
   "source": [
    "import pandas as pd\n",
    "import numpy as np\n",
    "import seaborn as sns"
   ]
  },
  {
   "cell_type": "code",
   "execution_count": 54,
   "metadata": {},
   "outputs": [],
   "source": [
    "path_DB = 'C:\\\\Users\\\\aci_d\\\\Documents\\\\Desenvolvimento\\\\01_Fut\\\\documentos\\\\DB_FUT\\\\'"
   ]
  },
  {
   "cell_type": "code",
   "execution_count": 55,
   "metadata": {},
   "outputs": [],
   "source": [
    "df = pd.read_excel(path_DB + 'DadosTreinamento.xlsx')"
   ]
  },
  {
   "cell_type": "code",
   "execution_count": 56,
   "metadata": {},
   "outputs": [
    {
     "data": {
      "text/plain": [
       "2302"
      ]
     },
     "execution_count": 56,
     "metadata": {},
     "output_type": "execute_result"
    }
   ],
   "source": [
    "df= df[[\n",
    "'winner',\n",
    "'m_GolsFeitos_mdmv_5',\n",
    "'m_GolsSofridos_mdmv_5',\n",
    "'m_Faltas_mdmv_5',\n",
    "'m_Escanteios_mdmv_5',\n",
    "'m_Cruzamentos_mdmv_5',\n",
    "'m_QtdDefesas_mdmv_5',\n",
    "'m_Impedimentos_mdmv_5',\n",
    "'m_posse_mdmv_5',\n",
    "'m_chutesaogol_mdmv_5',\n",
    "'m_score_mdmv_5',\n",
    "'v_GolsFeitos_mdmv_5',\n",
    "'v_GolsSofridos_mdmv_5',\n",
    "'v_Faltas_mdmv_5',\n",
    "'v_Escanteios_mdmv_5',\n",
    "'v_Cruzamentos_mdmv_5',\n",
    "'v_QtdDefesas_mdmv_5',\n",
    "'v_Impedimentos_mdmv_5',\n",
    "'v_posse_mdmv_5',\n",
    "'v_chutesaogol_mdmv_5',\n",
    "'v_score_mdmv_5'\n",
    "\n",
    "]]\n",
    "len(df)"
   ]
  },
  {
   "cell_type": "code",
   "execution_count": null,
   "metadata": {},
   "outputs": [],
   "source": [
    "features = [\n",
    "'m_GolsFeitos_mdmv_5',\n",
    "'m_GolsSofridos_mdmv_5',\n",
    "'m_Faltas_mdmv_5',\n",
    "'m_Escanteios_mdmv_5',\n",
    "'m_Cruzamentos_mdmv_5',\n",
    "'m_QtdDefesas_mdmv_5',\n",
    "'m_Impedimentos_mdmv_5',\n",
    "'m_posse_mdmv_5',\n",
    "'m_chutesaogol_mdmv_5',\n",
    "'m_score_mdmv_5',\n",
    "'v_GolsFeitos_mdmv_5',\n",
    "'v_GolsSofridos_mdmv_5',\n",
    "'v_Faltas_mdmv_5',\n",
    "'v_Escanteios_mdmv_5',\n",
    "'v_Cruzamentos_mdmv_5',\n",
    "'v_QtdDefesas_mdmv_5',\n",
    "'v_Impedimentos_mdmv_5',\n",
    "'v_posse_mdmv_5',\n",
    "'v_chutesaogol_mdmv_5',\n",
    "'v_score_mdmv_5'\n",
    "\n",
    "]"
   ]
  },
  {
   "cell_type": "code",
   "execution_count": null,
   "metadata": {},
   "outputs": [],
   "source": [
    "predict_column = ['winner'\n",
    "                 ]"
   ]
  },
  {
   "cell_type": "code",
   "execution_count": null,
   "metadata": {},
   "outputs": [],
   "source": [
    "from sklearn import (model_selection, preprocessing)"
   ]
  },
  {
   "cell_type": "code",
   "execution_count": 60,
   "metadata": {},
   "outputs": [],
   "source": [
    "array = df.values\n",
    "bos_X = array[:, 0].astype(float)\n",
    "bos_y = array[:, 1:21]\n",
    "test_size = 0.20\n",
    "seed = 7"
   ]
  },
  {
   "cell_type": "code",
   "execution_count": 61,
   "metadata": {},
   "outputs": [],
   "source": [
    "X_train, X_test, Y_train, Y_test = model_selection.train_test_split(bos_X, bos_y, test_size=test_size, random_state=seed)"
   ]
  },
  {
   "cell_type": "code",
   "execution_count": 62,
   "metadata": {},
   "outputs": [],
   "source": [
    "# Parâmetros\n",
    "num_folds = 10\n",
    "scoring = 'accuracy'"
   ]
  },
  {
   "cell_type": "code",
   "execution_count": null,
   "metadata": {},
   "outputs": [],
   "source": [
    "# Criação dos modelos\n",
    "models = []\n",
    "models.append(('LR', LogisticRegression(solver='newton-cg')))\n",
    "models.append(('KNN', KNeighborsClassifier()))\n",
    "models.append(('CART', DecisionTreeClassifier()))\n",
    "models.append(('NB', GaussianNB()))\n",
    "models.append(('SVM', SVC()))"
   ]
  },
  {
   "cell_type": "code",
   "execution_count": null,
   "metadata": {},
   "outputs": [],
   "source": [
    "bos_X = df[features].values\n",
    "bos_y = df[predict_column].values.ravel()\n",
    "\n",
    "bos_X_train, bos_X_test, bos_y_train, bos_y_test = model_selection.train_test_split(bos_X,bos_y, test_size = 0.3,random_state=42)\n",
    "\n",
    "bos_sX = preprocessing.StandardScaler().fit_transform(bos_X)\n",
    "bos_sX_train, bos_sX_test, bos_sy_train, bos_sy_test = model_selection.train_test_split(bos_sX,bos_y, test_size = 0.3,random_state=42)\n"
   ]
  },
  {
   "cell_type": "code",
   "execution_count": null,
   "metadata": {},
   "outputs": [],
   "source": [
    "bos_y_train"
   ]
  },
  {
   "cell_type": "code",
   "execution_count": null,
   "metadata": {},
   "outputs": [],
   "source": [
    "from sklearn.svm import SVR"
   ]
  },
  {
   "cell_type": "code",
   "execution_count": null,
   "metadata": {},
   "outputs": [],
   "source": [
    "svr = SVR(kernel = 'sigmoid')\n",
    "svr.fit(bos_X_train,bos_y_train)\n",
    "svr.score(bos_X_test,bos_y_test)"
   ]
  },
  {
   "cell_type": "code",
   "execution_count": 36,
   "metadata": {},
   "outputs": [
    {
     "data": {
      "text/plain": [
       "-3.8279189427939526"
      ]
     },
     "execution_count": 36,
     "metadata": {},
     "output_type": "execute_result"
    }
   ],
   "source": [
    "svr.score(bos_X_train,bos_y_train)"
   ]
  },
  {
   "cell_type": "code",
   "execution_count": 51,
   "metadata": {},
   "outputs": [
    {
     "data": {
      "text/plain": [
       "array([1., 2., 1., 3., 1., 3., 3., 1., 2., 3., 1., 2., 2., 2., 2., 3., 1.,\n",
       "       3., 1., 2., 1., 2., 1., 1., 1., 1., 3., 3., 2., 1., 1., 3., 3., 3.,\n",
       "       1., 3., 1., 1., 3., 3., 2., 3., 3., 3., 3., 3., 3., 1., 3., 1., 3.,\n",
       "       2., 1., 3., 3., 3., 3., 2., 3., 3., 3., 1., 2., 2., 1., 1., 1., 3.,\n",
       "       3., 2., 2., 1., 2., 1., 2., 1., 3., 3., 2., 2., 3., 2., 2., 3., 3.,\n",
       "       1., 1., 2., 3., 3., 2., 3., 1., 2., 1., 2., 1., 1., 1., 3., 1., 3.,\n",
       "       3., 2., 1., 2., 2., 3., 1., 3., 2., 1., 3., 1., 3., 1., 1., 3., 1.,\n",
       "       3., 1., 3., 3., 1., 1., 3., 3., 3., 3., 3., 1., 3., 3., 1., 1., 2.,\n",
       "       2., 1., 3., 3., 1., 1., 1., 1., 3., 1., 3., 1., 3., 1., 1., 1., 1.,\n",
       "       2., 2., 1., 3., 1., 2., 1., 3., 2., 3., 1., 1., 3., 3., 3., 2., 1.,\n",
       "       3., 3., 2., 1., 1., 3., 3., 3., 1., 2., 1., 1., 3., 2., 2., 2., 1.,\n",
       "       1., 1., 2., 2., 2., 3., 1., 1., 1., 2., 2., 3., 1., 3., 2., 1., 3.,\n",
       "       3., 2., 2., 3., 2., 1., 3., 2., 2., 1., 2., 3., 1., 1., 2., 3., 3.,\n",
       "       1., 2., 2., 1., 1., 1., 3., 3., 1., 1., 1., 3., 1., 2., 2., 2., 1.,\n",
       "       3., 1., 1., 1., 1., 2., 3., 3., 1., 1., 1., 3., 2., 2., 3., 1., 3.,\n",
       "       2., 1., 2., 2., 3., 1., 2., 3., 2., 1., 2., 1., 3., 2., 1., 3., 2.,\n",
       "       3., 2., 3., 2., 1., 3., 2., 1., 1., 3., 3., 1., 3., 1., 3., 2., 3.,\n",
       "       3., 3., 2., 1., 2., 3., 3., 2., 1., 1., 3., 3., 1., 1., 3., 1., 3.,\n",
       "       1., 3., 1., 1., 1., 1., 1., 1., 3., 1., 3., 1., 3., 3., 3., 1., 3.,\n",
       "       1., 3., 2., 2., 3., 1., 1., 1., 1., 3., 3., 3., 3., 2., 1., 2., 1.,\n",
       "       3., 3., 1., 3., 1., 3., 2., 3., 1., 1., 2., 1., 3., 3., 2., 3., 1.,\n",
       "       1., 1., 1., 3., 1., 2., 3., 1., 2., 2., 3., 3., 1., 3., 2., 1., 3.,\n",
       "       2., 3., 1., 1., 3., 1., 3., 3., 3., 1., 2., 1., 1., 1., 3., 3., 3.,\n",
       "       3., 3., 2., 2., 3., 2., 1., 1., 2., 3., 1., 1., 2., 2., 1., 2., 2.,\n",
       "       1., 3., 2., 3., 1., 1., 1., 3., 1., 2., 1., 3., 2., 1., 1., 1., 1.,\n",
       "       2., 2., 2., 3., 3., 3., 1., 2., 1., 1., 1., 1., 2., 1., 1., 3., 3.,\n",
       "       3., 3., 1., 3., 3., 1., 2., 1., 1., 1., 3., 3., 2., 3., 3., 1., 1.,\n",
       "       1., 3., 2., 1., 3., 2., 1., 3., 2., 2., 1., 1., 1., 3., 3., 1., 2.,\n",
       "       1., 1., 2., 3., 3., 1., 2., 1., 3., 3., 3., 1., 2., 2., 2., 1., 1.,\n",
       "       1., 3., 1., 1., 1., 3., 1., 3., 3., 1., 1., 2., 2., 2., 2., 1., 1.,\n",
       "       3., 3., 2., 1., 3., 3., 1., 1., 2., 2., 3., 1., 1., 1., 2., 1., 1.,\n",
       "       2., 1., 1., 1., 2., 3., 3., 3., 2., 1., 3., 1., 3., 3., 1., 3., 1.,\n",
       "       1., 2., 3., 1., 3., 1., 3., 1., 1., 2., 1., 3., 1., 1., 3., 1., 3.,\n",
       "       1., 1., 1., 2., 1., 3., 2., 3., 2., 3., 1., 1., 2., 1., 1., 3., 2.,\n",
       "       1., 2., 1., 1., 1., 1., 3., 3., 3., 1., 3., 1., 3., 3., 1., 1., 3.,\n",
       "       3., 1., 2., 1., 1., 1., 1., 3., 3., 1., 1., 2., 3., 3., 3., 2., 3.,\n",
       "       3., 2., 1., 1., 3., 3., 3., 1., 1., 1., 3., 2., 3., 1., 3., 1., 1.,\n",
       "       3., 1., 2., 1., 2., 1., 3., 3., 1., 3., 2., 3., 1., 3., 1., 2., 1.,\n",
       "       3., 1., 3., 1., 1., 1., 1., 3., 1., 2., 3., 1., 1., 3., 3., 3., 2.,\n",
       "       1., 1., 3., 1., 1., 1., 3., 1., 2., 2., 2., 2., 3., 3., 3., 3., 3.,\n",
       "       1., 1., 1., 1., 2., 1., 1., 2., 3., 1., 2.])"
      ]
     },
     "execution_count": 51,
     "metadata": {},
     "output_type": "execute_result"
    }
   ],
   "source": [
    "df_Y_predict = svr.predict(bos_X_test)\n",
    "df_Y_predict[df_Y_predict<=1.5] = 1\n",
    "df_Y_predict[df_Y_predict>=2.5] = 3\n",
    "df_Y_predict[(df_Y_predict>1.5) & (df_Y_predict<2.5)] = 2\n",
    "df_Y_predict"
   ]
  },
  {
   "cell_type": "code",
   "execution_count": 37,
   "metadata": {},
   "outputs": [],
   "source": [
    "from sklearn.metrics import confusion_matrix\n"
   ]
  },
  {
   "cell_type": "code",
   "execution_count": 52,
   "metadata": {},
   "outputs": [
    {
     "data": {
      "text/html": [
       "<div>\n",
       "<style scoped>\n",
       "    .dataframe tbody tr th:only-of-type {\n",
       "        vertical-align: middle;\n",
       "    }\n",
       "\n",
       "    .dataframe tbody tr th {\n",
       "        vertical-align: top;\n",
       "    }\n",
       "\n",
       "    .dataframe thead th {\n",
       "        text-align: right;\n",
       "    }\n",
       "</style>\n",
       "<table border=\"1\" class=\"dataframe\">\n",
       "  <thead>\n",
       "    <tr style=\"text-align: right;\">\n",
       "      <th></th>\n",
       "      <th>M</th>\n",
       "      <th>E</th>\n",
       "      <th>V</th>\n",
       "    </tr>\n",
       "  </thead>\n",
       "  <tbody>\n",
       "    <tr>\n",
       "      <th>T_M</th>\n",
       "      <td>139</td>\n",
       "      <td>74</td>\n",
       "      <td>104</td>\n",
       "    </tr>\n",
       "    <tr>\n",
       "      <th>T_E</th>\n",
       "      <td>83</td>\n",
       "      <td>50</td>\n",
       "      <td>75</td>\n",
       "    </tr>\n",
       "    <tr>\n",
       "      <th>T_V</th>\n",
       "      <td>66</td>\n",
       "      <td>32</td>\n",
       "      <td>68</td>\n",
       "    </tr>\n",
       "  </tbody>\n",
       "</table>\n",
       "</div>"
      ],
      "text/plain": [
       "       M   E    V\n",
       "T_M  139  74  104\n",
       "T_E   83  50   75\n",
       "T_V   66  32   68"
      ]
     },
     "execution_count": 52,
     "metadata": {},
     "output_type": "execute_result"
    }
   ],
   "source": [
    "pd.DataFrame(\n",
    "    confusion_matrix(bos_y_test,df_Y_predict), columns=['M','E','V'], index =['T_M','T_E','T_V']\n",
    ")"
   ]
  },
  {
   "cell_type": "code",
   "execution_count": 49,
   "metadata": {},
   "outputs": [],
   "source": [
    "tm = 121\n",
    "te = 67\n",
    "tv = 60\n",
    "fm = 71 + 58\n",
    "fe = 101\t + 48\n",
    "fv = 95 + 70"
   ]
  },
  {
   "cell_type": "code",
   "execution_count": 50,
   "metadata": {},
   "outputs": [
    {
     "data": {
      "text/plain": [
       "0.3589001447178003"
      ]
     },
     "execution_count": 50,
     "metadata": {},
     "output_type": "execute_result"
    }
   ],
   "source": [
    "acur = (tm+te+tv)/(tm+te+tv+fm+fe+fv)\n",
    "acur"
   ]
  }
 ],
 "metadata": {
  "interpreter": {
   "hash": "c5320664f4daae60a34b0a6c7f3e14c2f678d1adfec90218a94c72446202ddb5"
  },
  "kernelspec": {
   "display_name": "Python 3.9.7 ('base')",
   "language": "python",
   "name": "python3"
  },
  "language_info": {
   "codemirror_mode": {
    "name": "ipython",
    "version": 3
   },
   "file_extension": ".py",
   "mimetype": "text/x-python",
   "name": "python",
   "nbconvert_exporter": "python",
   "pygments_lexer": "ipython3",
   "version": "3.9.7"
  },
  "orig_nbformat": 4
 },
 "nbformat": 4,
 "nbformat_minor": 2
}
