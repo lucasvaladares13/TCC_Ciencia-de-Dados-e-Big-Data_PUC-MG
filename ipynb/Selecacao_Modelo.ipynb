{
 "cells": [
  {
   "cell_type": "code",
   "execution_count": null,
   "metadata": {},
   "outputs": [],
   "source": [
    "# Imports\n",
    "import pandas as pd\n",
    "import numpy as np\n",
    "import matplotlib\n",
    "import matplotlib.pyplot as plt\n",
    "from sklearn.preprocessing import StandardScaler\n",
    "from sklearn.metrics import ConfusionMatrixDisplay\n",
    "from sklearn.metrics import classification_report\n",
    "from sklearn.model_selection import train_test_split\n",
    "from sklearn.model_selection import KFold\n",
    "from sklearn.model_selection import cross_val_score\n",
    "from sklearn.model_selection import GridSearchCV\n",
    "from sklearn.metrics import confusion_matrix\n",
    "from sklearn.metrics import accuracy_score\n",
    "from sklearn.pipeline import Pipeline\n",
    "from sklearn.linear_model import LogisticRegression\n",
    "from sklearn.tree import DecisionTreeClassifier\n",
    "from sklearn.neighbors import KNeighborsClassifier\n",
    "from sklearn.naive_bayes import GaussianNB\n",
    "from sklearn.svm import SVC\n",
    "from sklearn import (model_selection, preprocessing)\n",
    "import pandas as pd\n",
    "import numpy as np\n",
    "import seaborn as sns"
   ]
  },
  {
   "cell_type": "code",
   "execution_count": null,
   "metadata": {},
   "outputs": [],
   "source": [
    "path_DB = 'C:\\\\Users\\\\aci_d\\\\Documents\\\\Desenvolvimento\\\\01_Fut\\\\documentos\\\\DB_FUT\\\\'\n",
    "df = pd.read_excel(path_DB + 'DadosTreinamento.xlsx')\n",
    "df_sts = pd.read_excel(path_DB + 'df_sts.xlsx')"
   ]
  },
  {
   "cell_type": "code",
   "execution_count": null,
   "metadata": {},
   "outputs": [],
   "source": [
    "df_sts"
   ]
  },
  {
   "cell_type": "code",
   "execution_count": null,
   "metadata": {},
   "outputs": [],
   "source": [
    "df_sts_valid = df_sts[df_sts['ano_x'] == 2020].copy()\n",
    "df_sts = df_sts[df_sts['ano_x']<2020]"
   ]
  },
  {
   "cell_type": "code",
   "execution_count": null,
   "metadata": {},
   "outputs": [],
   "source": [
    "df_valid = df[df['ano'] == 2020].copy()\n",
    "df = df[df['ano']<2020]"
   ]
  },
  {
   "cell_type": "code",
   "execution_count": null,
   "metadata": {},
   "outputs": [],
   "source": [
    "df= df[[\n",
    "'winner',\n",
    "'m_GolsFeitos_mdmv_10',\n",
    "'m_GolsSofridos_mdmv_10',\n",
    "'m_Faltas_mdmv_10',\n",
    "'m_Escanteios_mdmv_10',\n",
    "'m_Cruzamentos_mdmv_10',\n",
    "'m_QtdDefesas_mdmv_10',\n",
    "'m_Impedimentos_mdmv_10',\n",
    "'m_posse_mdmv_10',\n",
    "'m_chutesaogol_mdmv_10',\n",
    "'m_score_mdmv_10',\n",
    "'v_GolsFeitos_mdmv_10',\n",
    "'v_GolsSofridos_mdmv_10',\n",
    "'v_Faltas_mdmv_10',\n",
    "'v_Escanteios_mdmv_10',\n",
    "'v_Cruzamentos_mdmv_10',\n",
    "'v_QtdDefesas_mdmv_10',\n",
    "'v_Impedimentos_mdmv_10',\n",
    "'v_posse_mdmv_10',\n",
    "'v_chutesaogol_mdmv_10',\n",
    "'v_score_mdmv_10',\n",
    "'v_MdPosse',\n",
    "'v_QtdGols',\n",
    "'v_QtdAssistencias',\n",
    "'v_MdGolsPorPartida',\n",
    "'v_MdAssistenciasPorPartida',\n",
    "'m_MdPosse',\n",
    "'m_QtdGols',\n",
    "'m_QtdAssistencias',\n",
    "'m_MdGolsPorPartida',\n",
    "'m_MdAssistenciasPorPartida'\n",
    "]]\n",
    "len(df)"
   ]
  },
  {
   "cell_type": "code",
   "execution_count": null,
   "metadata": {},
   "outputs": [],
   "source": [
    "df_valid= df_valid[[\n",
    "'winner',\n",
    "'m_GolsFeitos_mdmv_10',\n",
    "'m_GolsSofridos_mdmv_10',\n",
    "'m_Faltas_mdmv_10',\n",
    "'m_Escanteios_mdmv_10',\n",
    "'m_Cruzamentos_mdmv_10',\n",
    "'m_QtdDefesas_mdmv_10',\n",
    "'m_Impedimentos_mdmv_10',\n",
    "'m_posse_mdmv_10',\n",
    "'m_chutesaogol_mdmv_10',\n",
    "'m_score_mdmv_10',\n",
    "'v_GolsFeitos_mdmv_10',\n",
    "'v_GolsSofridos_mdmv_10',\n",
    "'v_Faltas_mdmv_10',\n",
    "'v_Escanteios_mdmv_10',\n",
    "'v_Cruzamentos_mdmv_10',\n",
    "'v_QtdDefesas_mdmv_10',\n",
    "'v_Impedimentos_mdmv_10',\n",
    "'v_posse_mdmv_10',\n",
    "'v_chutesaogol_mdmv_10',\n",
    "'v_score_mdmv_10',\n",
    "'v_MdPosse',\n",
    "'v_QtdGols',\n",
    "'v_QtdAssistencias',\n",
    "'v_MdGolsPorPartida',\n",
    "'v_MdAssistenciasPorPartida',\n",
    "'m_MdPosse',\n",
    "'m_QtdGols',\n",
    "'m_QtdAssistencias',\n",
    "'m_MdGolsPorPartida',\n",
    "'m_MdAssistenciasPorPartida'\n",
    "\n",
    "]]\n",
    "len(df_valid)"
   ]
  },
  {
   "cell_type": "code",
   "execution_count": null,
   "metadata": {},
   "outputs": [],
   "source": [
    "df_sts= df_sts[['winner_predict',\n",
    "'winner',\n",
    "'GolsFeitos_mdmv_10',\n",
    "'GolsSofridos_mdmv_10',\n",
    "'Faltas_mdmv_10',\n",
    "'Escanteios_mdmv_10',\n",
    "'Cruzamentos_mdmv_10',\n",
    "'QtdDefesas_mdmv_10',\n",
    "'Impedimentos_mdmv_10',\n",
    "'posse_mdmv_10',\n",
    "'chutesaogol_mdmv_10',\n",
    "'score_mdmv_10',\n",
    "'MdPosse',\n",
    "'QtdGols',\n",
    "'QtdAssistencias',\n",
    "'MdGolsPorPartida',\n",
    "'MdAssistenciasPorPartida'\n",
    "]]\n",
    "#df_sts = df_sts[df_sts['winner_predict'] > 0]\n",
    "#df_sts"
   ]
  },
  {
   "cell_type": "code",
   "execution_count": null,
   "metadata": {},
   "outputs": [],
   "source": [
    "df_sts_valid= df_sts_valid[['winner_predict',\n",
    "'winner',\n",
    "'GolsFeitos_mdmv_10',\n",
    "'GolsSofridos_mdmv_10',\n",
    "'Faltas_mdmv_10',\n",
    "'Escanteios_mdmv_10',\n",
    "'Cruzamentos_mdmv_10',\n",
    "'QtdDefesas_mdmv_10',\n",
    "'Impedimentos_mdmv_10',\n",
    "'posse_mdmv_10',\n",
    "'chutesaogol_mdmv_10',\n",
    "'score_mdmv_10',\n",
    "'MdPosse',\n",
    "'QtdGols',\n",
    "'QtdAssistencias',\n",
    "'MdGolsPorPartida',\n",
    "'MdAssistenciasPorPartida'\n",
    "]]\n",
    "#df_sts_valid = df_sts_valid[df_sts_valid['winner_predict'] > 0]"
   ]
  },
  {
   "cell_type": "code",
   "execution_count": null,
   "metadata": {},
   "outputs": [],
   "source": [
    "df_sts.drop_duplicates()\n",
    "df_sts"
   ]
  },
  {
   "cell_type": "code",
   "execution_count": null,
   "metadata": {},
   "outputs": [],
   "source": [
    "array = df.values\n",
    "bos_y = array[:, 0]\n",
    "bos_X = array[:, 1:].astype(float)\n",
    "test_size = 0.20\n",
    "seed = 7"
   ]
  },
  {
   "cell_type": "code",
   "execution_count": null,
   "metadata": {},
   "outputs": [],
   "source": [
    "array_valid = df_valid.values\n",
    "bos_y_val = array_valid[:, 0]\n",
    "bos_X_val = array_valid[:, 1:].astype(float)\n",
    "test_size_val = 0.90\n",
    "seed = 7"
   ]
  },
  {
   "cell_type": "code",
   "execution_count": null,
   "metadata": {},
   "outputs": [],
   "source": [
    "array = df_sts.values\n",
    "bos_y = array[:, 0]\n",
    "bos_X = array[:, 1:].astype(float)\n",
    "test_size = 0.20\n",
    "seed = 7"
   ]
  },
  {
   "cell_type": "code",
   "execution_count": null,
   "metadata": {},
   "outputs": [],
   "source": [
    "array_valid = df_sts_valid.values\n",
    "bos_y_val = array_valid[:, 0]\n",
    "bos_X_val = array_valid[:, 1:].astype(float)\n",
    "test_size_val = 0.80\n",
    "seed = 7\n"
   ]
  },
  {
   "cell_type": "code",
   "execution_count": null,
   "metadata": {},
   "outputs": [],
   "source": [
    "bos_y"
   ]
  },
  {
   "cell_type": "code",
   "execution_count": null,
   "metadata": {},
   "outputs": [],
   "source": [
    "X_train, X_test, Y_train, Y_test = model_selection.train_test_split(bos_X, bos_y, test_size=test_size, random_state=seed)"
   ]
  },
  {
   "cell_type": "code",
   "execution_count": null,
   "metadata": {},
   "outputs": [],
   "source": [
    "X_train_val, X_test_val, Y_train_val, Y_test_val = model_selection.train_test_split(bos_X_val, bos_y_val, test_size=test_size_val, random_state=seed)"
   ]
  },
  {
   "cell_type": "code",
   "execution_count": null,
   "metadata": {},
   "outputs": [],
   "source": [
    "X_test_val"
   ]
  },
  {
   "cell_type": "code",
   "execution_count": null,
   "metadata": {},
   "outputs": [],
   "source": [
    "# Parâmetros\n",
    "num_folds = 10\n",
    "scoring = 'accuracy'"
   ]
  },
  {
   "cell_type": "code",
   "execution_count": null,
   "metadata": {},
   "outputs": [],
   "source": [
    "# Criação dos modelos\n",
    "models = []\n",
    "models.append(('LR', LogisticRegression(solver='newton-cg')))\n",
    "models.append(('KNN', KNeighborsClassifier()))\n",
    "models.append(('CART', DecisionTreeClassifier()))\n",
    "models.append(('NB', GaussianNB()))\n",
    "models.append(('SVM', SVC()))"
   ]
  },
  {
   "cell_type": "code",
   "execution_count": null,
   "metadata": {},
   "outputs": [],
   "source": [
    "np.random.seed(7) # definindo uma semente global"
   ]
  },
  {
   "cell_type": "code",
   "execution_count": null,
   "metadata": {},
   "outputs": [],
   "source": [
    "# Avaliação dos modelos\n",
    "results = []\n",
    "results_valid = []\n",
    "names = []\n",
    "names_valid = []\n",
    "for name, model in models:\n",
    "    kfold = KFold(n_splits=num_folds)\n",
    "    cv_results = cross_val_score(model, X_train, Y_train, cv=kfold, scoring=scoring)\n",
    "    cv_results_valid = cross_val_score(model, X_train_val, Y_train_val, cv=kfold, scoring=scoring)\n",
    "    results.append(cv_results)\n",
    "    results_valid.append(cv_results_valid)\n",
    "    names.append(name)\n",
    "    names_valid.append(name)\n",
    "    msg = \"%s: %f (%f)\" % (name, cv_results.mean(), cv_results.std())\n",
    "    msg_valid = \"%s: %f (%f)\" % (name, cv_results_valid.mean(), cv_results_valid.std())\n",
    "    print(msg)\n",
    "    print(msg_valid)"
   ]
  },
  {
   "cell_type": "code",
   "execution_count": null,
   "metadata": {},
   "outputs": [],
   "source": [
    "# Avaliação dos modelos\n",
    "results = []\n",
    "names = []\n",
    "for name, model in models:\n",
    "    kfold = KFold(n_splits=num_folds)\n",
    "    cv_results = cross_val_score(model, X_train, Y_train, cv=kfold, scoring=scoring)\n",
    "    results.append(cv_results)\n",
    "    names.append(name)\n",
    "    msg = \"%s: %f (%f)\" % (name, cv_results.mean(), cv_results.std())\n",
    "    print(msg)\n"
   ]
  },
  {
   "cell_type": "code",
   "execution_count": null,
   "metadata": {},
   "outputs": [],
   "source": [
    "# Comparação dos modelos\n",
    "fig = plt.figure()\n",
    "fig.suptitle(\"Comparação dos Modelos\")\n",
    "ax = fig.add_subplot(111)\n",
    "plt.boxplot(results)\n",
    "ax.set_xticklabels(names)\n",
    "plt.show()"
   ]
  },
  {
   "cell_type": "code",
   "execution_count": null,
   "metadata": {},
   "outputs": [],
   "source": [
    "# Padronização do dataset\n",
    "pipelines = []\n",
    "pipelines.append(('ScaledLR', Pipeline([('Scaler', StandardScaler()), ('LR', LogisticRegression(solver='newton-cg'))])))\n",
    "pipelines.append(('ScaledKNN', Pipeline([('Scaler', StandardScaler()),('KNN', KNeighborsClassifier())])))\n",
    "pipelines.append(('ScaledCART', Pipeline([('Scaler', StandardScaler()),('CART', DecisionTreeClassifier())])))\n",
    "pipelines.append(('ScaledNB', Pipeline([('Scaler', StandardScaler()),('NB', GaussianNB())])))\n",
    "pipelines.append(('ScaledSVM', Pipeline([('Scaler', StandardScaler()),('SVM', SVC())])))\n",
    "results = []\n",
    "names = []\n",
    "for name, model in pipelines:\n",
    "    kfold = KFold(n_splits=num_folds)\n",
    "    cv_results = cross_val_score(model, X_train, Y_train, cv=kfold, scoring=scoring)\n",
    "    results.append(cv_results)\n",
    "    names.append(name)\n",
    "    msg = \"%s: %f (%f)\" % (name, cv_results.mean(), cv_results.std())\n",
    "    print(msg)"
   ]
  },
  {
   "cell_type": "code",
   "execution_count": null,
   "metadata": {},
   "outputs": [],
   "source": [
    "np.random.seed(7) # definindo uma semente global\n",
    "# Tuning do TreeClassifier\n",
    "scaler = StandardScaler().fit(X_train)\n",
    "rescaledX = scaler.transform(X_train)\n",
    "max_depth = [5,10,15,20,30,40,50,70,75,80,85,90,95,100,110,120,150]\n",
    "criterion = ['gini', 'entropy']\n",
    "param_grid = dict(max_depth=max_depth, criterion=criterion)\n",
    "model = DecisionTreeClassifier()\n",
    "kfold = KFold(n_splits=num_folds)\n",
    "grid = GridSearchCV(estimator=model, param_grid=param_grid, scoring=scoring, cv=kfold)\n",
    "grid_result = grid.fit(rescaledX, Y_train)\n",
    "print(\"Melhor: %f com %s\" % (grid_result.best_score_,grid_result.best_params_))\n",
    "means = grid_result.cv_results_['mean_test_score']\n",
    "stds = grid_result.cv_results_['std_test_score']\n",
    "params = grid_result.cv_results_['params']\n",
    "for mean, stdev, param in zip(means, stds, params):\n",
    "    print(\"%f (%f): %r\" % (mean, stdev, param))"
   ]
  },
  {
   "cell_type": "code",
   "execution_count": null,
   "metadata": {},
   "outputs": [],
   "source": [
    "np.random.seed(7) # definindo uma semente global\n",
    "# Tuning do SVM\n",
    "scaler = StandardScaler().fit(X_train)\n",
    "rescaledX = scaler.transform(X_train)\n",
    "c_values = [0.1, 0.5, 1.0, 1.5, 2.0]\n",
    "kernel_values = ['linear', 'poly', 'rbf', 'sigmoid']\n",
    "param_grid = dict(C=c_values, kernel=kernel_values)\n",
    "model = SVC()\n",
    "kfold = KFold(n_splits=num_folds)\n",
    "grid = GridSearchCV(estimator=model, param_grid=param_grid, scoring=scoring, cv=kfold)\n",
    "grid_result = grid.fit(rescaledX, Y_train)\n",
    "print(\"Melhor: %f com %s\" % (grid_result.best_score_,grid_result.best_params_))\n",
    "means = grid_result.cv_results_['mean_test_score']\n",
    "stds = grid_result.cv_results_['std_test_score']\n",
    "params = grid_result.cv_results_['params']\n",
    "for mean, stdev, param in zip(means, stds, params):\n",
    "    print(\"%f (%f): %r\" % (mean, stdev, param))"
   ]
  },
  {
   "cell_type": "code",
   "execution_count": null,
   "metadata": {},
   "outputs": [],
   "source": [
    "np.random.seed(7) # definindo uma semente global\n",
    "# Tuning do KNeighborsClassifier\n",
    "scaler = StandardScaler().fit(X_train)\n",
    "rescaledX = scaler.transform(X_train)\n",
    "n_neighbors = [5,10,15,20,30,40,50]\n",
    "weights = ['uniform', 'distance']\n",
    "metric = ['euclidean','manhattan']\n",
    "param_grid = dict(n_neighbors=n_neighbors, weights=weights , metric=metric)\n",
    "model = KNeighborsClassifier()\n",
    "kfold = KFold(n_splits=num_folds)\n",
    "grid = GridSearchCV(estimator=model, param_grid=param_grid, scoring=scoring, cv=kfold)\n",
    "grid_result = grid.fit(rescaledX, Y_train)\n",
    "print(\"Melhor: %f com %s\" % (grid_result.best_score_,grid_result.best_params_))\n",
    "means = grid_result.cv_results_['mean_test_score']\n",
    "stds = grid_result.cv_results_['std_test_score']\n",
    "params = grid_result.cv_results_['params']\n",
    "for mean, stdev, param in zip(means, stds, params):\n",
    "    print(\"%f (%f): %r\" % (mean, stdev, param))"
   ]
  },
  {
   "cell_type": "code",
   "execution_count": null,
   "metadata": {},
   "outputs": [],
   "source": [
    "np.random.seed(7) # definindo uma semente global\n",
    "# Tuning do LogisticRegression\n",
    "#scaler = StandardScaler().fit(X_train)\n",
    "#rescaledX = scaler.transform(X_train)\n",
    "rescaledX = X_train\n",
    "#solver = ['newton-cg','lbfgs','liblinear','sag','saga']\n",
    "C = [0.001, 0.01, 0.1, 0.5, 1, 1.5, 2]\n",
    "penalty = ['l1', 'l2']\n",
    "#param_grid = dict(solver=solver, penalty=penalty , C=C)\n",
    "param_grid = dict( penalty=penalty , C=C)\n",
    "model = LogisticRegression(solver = 'newton-cg')\n",
    "kfold = KFold(n_splits=num_folds)\n",
    "grid = GridSearchCV(estimator=model, param_grid=param_grid, scoring=scoring, cv=kfold)\n",
    "grid_result = grid.fit(rescaledX, Y_train)\n",
    "print(\"Melhor: %f com %s\" % (grid_result.best_score_,grid_result.best_params_))\n",
    "means = grid_result.cv_results_['mean_test_score']\n",
    "stds = grid_result.cv_results_['std_test_score']\n",
    "params = grid_result.cv_results_['params']\n",
    "for mean, stdev, param in zip(means, stds, params):\n",
    "    print(\"%f (%f): %r\" % (mean, stdev, param))"
   ]
  },
  {
   "cell_type": "code",
   "execution_count": null,
   "metadata": {},
   "outputs": [],
   "source": [
    "np.random.seed(7) # definindo uma semente global\n",
    "# Preparação do modelo\n",
    "#model = LogisticRegression(solver='newton-cg')\n",
    "#model = KNeighborsClassifier()\n",
    "#model = DecisionTreeClassifier()\n",
    "model = SVC()\n",
    "model.fit(X_train, Y_train)\n",
    "# Estimativa da acurácia no conjunto de teste\n",
    "predictions = model.predict(X_test)\n",
    "print(\"Accuracy score = \", accuracy_score(Y_test, predictions))\n",
    "# Matriz de confusão\n",
    "cm = confusion_matrix(Y_test, predictions)\n",
    "labels = [\"0\",\"1\",\"2\"]\n",
    "cmd = ConfusionMatrixDisplay(cm, display_labels=labels)\n",
    "cmd.plot(values_format=\"d\")\n",
    "plt.show()\n",
    "print(classification_report(Y_test, predictions, target_names=labels))"
   ]
  },
  {
   "cell_type": "code",
   "execution_count": null,
   "metadata": {},
   "outputs": [],
   "source": [
    "np.random.seed(7) # definindo uma semente global\n",
    "# Preparação do modelo\n",
    "model = LogisticRegression(solver='newton-cg')\n",
    "#model = KNeighborsClassifier()\n",
    "#model = DecisionTreeClassifier()\n",
    "#model = SVC()\n",
    "model.fit(X_train, Y_train)\n",
    "# Estimativa da acurácia no conjunto de teste\n",
    "predictions = model.predict(X_test)\n",
    "predictions_val = model.predict(X_test_val)\n",
    "print(\"Accuracy score = \", accuracy_score(Y_test, predictions))\n",
    "print(\"Accuracy score = \", accuracy_score(Y_test_val, predictions_val))\n",
    "# Matriz de confusão\n",
    "cm = confusion_matrix(Y_test, predictions)\n",
    "labels = [\"0\",\"1\",\"2\"]\n",
    "cmd = ConfusionMatrixDisplay(cm, display_labels=labels)\n",
    "cmd.plot(values_format=\"d\")\n",
    "plt.show()\n",
    "print(classification_report(Y_test, predictions, target_names=labels))\n",
    "\n",
    "cm = confusion_matrix(Y_test_val, predictions_val)\n",
    "labels = [\"0\",\"1\",\"2\"]\n",
    "cmd = ConfusionMatrixDisplay(cm, display_labels=labels)\n",
    "cmd.plot(values_format=\"d\")\n",
    "plt.show()\n",
    "print(classification_report(Y_test_val, predictions_val, target_names=labels))"
   ]
  },
  {
   "cell_type": "code",
   "execution_count": null,
   "metadata": {},
   "outputs": [],
   "source": [
    "set(predictions.tolist())"
   ]
  }
 ],
 "metadata": {
  "interpreter": {
   "hash": "c5320664f4daae60a34b0a6c7f3e14c2f678d1adfec90218a94c72446202ddb5"
  },
  "kernelspec": {
   "display_name": "Python 3.9.7 ('base')",
   "language": "python",
   "name": "python3"
  },
  "language_info": {
   "codemirror_mode": {
    "name": "ipython",
    "version": 3
   },
   "file_extension": ".py",
   "mimetype": "text/x-python",
   "name": "python",
   "nbconvert_exporter": "python",
   "pygments_lexer": "ipython3",
   "version": "3.9.7"
  },
  "orig_nbformat": 4
 },
 "nbformat": 4,
 "nbformat_minor": 2
}
