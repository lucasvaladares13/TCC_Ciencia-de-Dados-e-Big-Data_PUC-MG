{
 "cells": [
  {
   "cell_type": "code",
   "execution_count": 8,
   "metadata": {},
   "outputs": [],
   "source": [
    "import pandas as pd\n",
    "import numpy as np"
   ]
  },
  {
   "cell_type": "code",
   "execution_count": 9,
   "metadata": {},
   "outputs": [],
   "source": [
    "path_DB = 'C:\\\\Users\\\\aci_d\\\\Documents\\\\Desenvolvimento\\\\01_Fut\\\\documentos\\\\DB_FUT\\\\'"
   ]
  },
  {
   "cell_type": "code",
   "execution_count": 41,
   "metadata": {},
   "outputs": [],
   "source": [
    "df = pd.read_excel(path_DB + 'DadosTreinamento.xlsx')"
   ]
  },
  {
   "cell_type": "code",
   "execution_count": 42,
   "metadata": {},
   "outputs": [
    {
     "data": {
      "text/plain": [
       "2302"
      ]
     },
     "execution_count": 42,
     "metadata": {},
     "output_type": "execute_result"
    }
   ],
   "source": [
    "df= df[[\n",
    "'winner',\n",
    "'m_GolsFeitos_mdmv_5',\n",
    "'m_GolsSofridos_mdmv_5',\n",
    "'m_Faltas_mdmv_5',\n",
    "'m_Escanteios_mdmv_5',\n",
    "'m_Cruzamentos_mdmv_5',\n",
    "'m_QtdDefesas_mdmv_5',\n",
    "'m_Impedimentos_mdmv_5',\n",
    "'m_posse_mdmv_5',\n",
    "'m_chutesaogol_mdmv_5',\n",
    "'m_score_mdmv_5',\n",
    "'v_GolsFeitos_mdmv_5',\n",
    "'v_GolsSofridos_mdmv_5',\n",
    "'v_Faltas_mdmv_5',\n",
    "'v_Escanteios_mdmv_5',\n",
    "'v_Cruzamentos_mdmv_5',\n",
    "'v_QtdDefesas_mdmv_5',\n",
    "'v_Impedimentos_mdmv_5',\n",
    "'v_posse_mdmv_5',\n",
    "'v_chutesaogol_mdmv_5',\n",
    "'v_score_mdmv_5'\n",
    "\n",
    "]]\n",
    "len(df)"
   ]
  },
  {
   "cell_type": "code",
   "execution_count": 43,
   "metadata": {},
   "outputs": [
    {
     "data": {
      "text/plain": [
       "2302"
      ]
     },
     "execution_count": 43,
     "metadata": {},
     "output_type": "execute_result"
    }
   ],
   "source": [
    "df = df.drop_duplicates()\n",
    "len(df)"
   ]
  },
  {
   "cell_type": "code",
   "execution_count": 11,
   "metadata": {},
   "outputs": [],
   "source": [
    "features = [\n",
    "'m_GolsFeitos_mdmv_5',\n",
    "'m_GolsSofridos_mdmv_5',\n",
    "'m_Faltas_mdmv_5',\n",
    "'m_Escanteios_mdmv_5',\n",
    "'m_Cruzamentos_mdmv_5',\n",
    "'m_QtdDefesas_mdmv_5',\n",
    "'m_Impedimentos_mdmv_5',\n",
    "'m_posse_mdmv_5',\n",
    "'m_chutesaogol_mdmv_5',\n",
    "'m_score_mdmv_5',\n",
    "'v_GolsFeitos_mdmv_5',\n",
    "'v_GolsSofridos_mdmv_5',\n",
    "'v_Faltas_mdmv_5',\n",
    "'v_Escanteios_mdmv_5',\n",
    "'v_Cruzamentos_mdmv_5',\n",
    "'v_QtdDefesas_mdmv_5',\n",
    "'v_Impedimentos_mdmv_5',\n",
    "'v_posse_mdmv_5',\n",
    "'v_chutesaogol_mdmv_5',\n",
    "'v_score_mdmv_5',\n",
    "'m_MdPosse',\n",
    "'m_MdGolsPorPartida',\n",
    "'m_MdAssistenciasPorPartida',\n",
    "'v_MdPosse',\n",
    "'v_MdGolsPorPartida',\n",
    "'v_MdAssistenciasPorPartida'\n",
    "\n",
    "]"
   ]
  },
  {
   "cell_type": "code",
   "execution_count": 44,
   "metadata": {},
   "outputs": [],
   "source": [
    "features = [\n",
    "'m_GolsFeitos_mdmv_5',\n",
    "'m_GolsSofridos_mdmv_5',\n",
    "'m_Faltas_mdmv_5',\n",
    "'m_Escanteios_mdmv_5',\n",
    "'m_Cruzamentos_mdmv_5',\n",
    "'m_QtdDefesas_mdmv_5',\n",
    "'m_Impedimentos_mdmv_5',\n",
    "'m_posse_mdmv_5',\n",
    "'m_chutesaogol_mdmv_5',\n",
    "'m_score_mdmv_5',\n",
    "'v_GolsFeitos_mdmv_5',\n",
    "'v_GolsSofridos_mdmv_5',\n",
    "'v_Faltas_mdmv_5',\n",
    "'v_Escanteios_mdmv_5',\n",
    "'v_Cruzamentos_mdmv_5',\n",
    "'v_QtdDefesas_mdmv_5',\n",
    "'v_Impedimentos_mdmv_5',\n",
    "'v_posse_mdmv_5',\n",
    "'v_chutesaogol_mdmv_5',\n",
    "'v_score_mdmv_5'\n",
    "\n",
    "]"
   ]
  },
  {
   "cell_type": "code",
   "execution_count": 45,
   "metadata": {},
   "outputs": [],
   "source": [
    "predict_column = ['winner'\n",
    "                 ]"
   ]
  },
  {
   "cell_type": "code",
   "execution_count": 50,
   "metadata": {},
   "outputs": [],
   "source": [
    "df_X = df[features]"
   ]
  },
  {
   "cell_type": "code",
   "execution_count": 49,
   "metadata": {},
   "outputs": [
    {
     "data": {
      "text/plain": [
       "array([2, 2, 1, ..., 1, 1, 1], dtype=int64)"
      ]
     },
     "execution_count": 49,
     "metadata": {},
     "output_type": "execute_result"
    }
   ],
   "source": [
    "df_Y = df[predict_column]\n",
    "df_Y = df_Y['winner']\n",
    "df_Y = df_Y.values\n",
    "df_Y\n",
    "\n"
   ]
  },
  {
   "cell_type": "code",
   "execution_count": 51,
   "metadata": {},
   "outputs": [],
   "source": [
    "from sklearn import (model_selection, preprocessing)\n",
    "from sklearn.neighbors import KNeighborsRegressor"
   ]
  },
  {
   "cell_type": "code",
   "execution_count": 52,
   "metadata": {},
   "outputs": [],
   "source": [
    "df_X = preprocessing.StandardScaler().fit_transform(df_X)"
   ]
  },
  {
   "cell_type": "code",
   "execution_count": 57,
   "metadata": {},
   "outputs": [],
   "source": [
    "df_X_train,df_X_test,df_Y_train, df_Y_test = model_selection.train_test_split(df_X,df_Y, test_size = 0.25, random_state=54)"
   ]
  },
  {
   "cell_type": "code",
   "execution_count": 58,
   "metadata": {},
   "outputs": [
    {
     "data": {
      "text/plain": [
       "1726"
      ]
     },
     "execution_count": 58,
     "metadata": {},
     "output_type": "execute_result"
    }
   ],
   "source": [
    "len(df_Y_train)"
   ]
  },
  {
   "cell_type": "code",
   "execution_count": 59,
   "metadata": {},
   "outputs": [
    {
     "data": {
      "text/plain": [
       "-0.2025466892576242"
      ]
     },
     "execution_count": 59,
     "metadata": {},
     "output_type": "execute_result"
    }
   ],
   "source": [
    "knr = KNeighborsRegressor(weights = 'distance', leaf_size = 1)\n",
    "knr.fit(df_X_train,df_Y_train)\n",
    "knr.score(df_X_test,df_Y_test)"
   ]
  },
  {
   "cell_type": "code",
   "execution_count": 60,
   "metadata": {},
   "outputs": [],
   "source": [
    "from sklearn.tree import DecisionTreeClassifier"
   ]
  },
  {
   "cell_type": "code",
   "execution_count": 61,
   "metadata": {},
   "outputs": [
    {
     "data": {
      "text/plain": [
       "0.375"
      ]
     },
     "execution_count": 61,
     "metadata": {},
     "output_type": "execute_result"
    }
   ],
   "source": [
    "dtr = DecisionTreeClassifier(splitter = 'best', max_depth = 60, min_samples_split = 3)\n",
    "dtr.fit(df_X_train,df_Y_train)\n",
    "dtr.score(df_X_test,df_Y_test)"
   ]
  },
  {
   "cell_type": "code",
   "execution_count": 62,
   "metadata": {},
   "outputs": [],
   "source": [
    "from sklearn import (model_selection, preprocessing)\n",
    "from sklearn.svm import SVR"
   ]
  },
  {
   "cell_type": "code",
   "execution_count": 63,
   "metadata": {},
   "outputs": [
    {
     "data": {
      "text/plain": [
       "-10.534146376179027"
      ]
     },
     "execution_count": 63,
     "metadata": {},
     "output_type": "execute_result"
    }
   ],
   "source": [
    "svr = SVR(kernel = 'sigmoid')\n",
    "svr.fit(df_X_train,df_Y_train)\n",
    "svr.score(df_X_test,df_Y_test)"
   ]
  }
 ],
 "metadata": {
  "interpreter": {
   "hash": "c5320664f4daae60a34b0a6c7f3e14c2f678d1adfec90218a94c72446202ddb5"
  },
  "kernelspec": {
   "display_name": "Python 3.9.7 ('base')",
   "language": "python",
   "name": "python3"
  },
  "language_info": {
   "codemirror_mode": {
    "name": "ipython",
    "version": 3
   },
   "file_extension": ".py",
   "mimetype": "text/x-python",
   "name": "python",
   "nbconvert_exporter": "python",
   "pygments_lexer": "ipython3",
   "version": "3.9.7"
  },
  "orig_nbformat": 4
 },
 "nbformat": 4,
 "nbformat_minor": 2
}
